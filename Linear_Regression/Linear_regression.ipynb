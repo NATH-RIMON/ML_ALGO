{
 "cells": [
  {
   "cell_type": "code",
   "execution_count": 2,
   "id": "1ac2699b",
   "metadata": {},
   "outputs": [],
   "source": [
    "import seaborn as sns"
   ]
  },
  {
   "cell_type": "code",
   "execution_count": 3,
   "id": "69eb1ae4",
   "metadata": {},
   "outputs": [],
   "source": [
    "iris=sns.load_dataset('iris')"
   ]
  },
  {
   "cell_type": "code",
   "execution_count": 4,
   "id": "2141f70f",
   "metadata": {},
   "outputs": [
    {
     "data": {
      "text/html": [
       "<div>\n",
       "<style scoped>\n",
       "    .dataframe tbody tr th:only-of-type {\n",
       "        vertical-align: middle;\n",
       "    }\n",
       "\n",
       "    .dataframe tbody tr th {\n",
       "        vertical-align: top;\n",
       "    }\n",
       "\n",
       "    .dataframe thead th {\n",
       "        text-align: right;\n",
       "    }\n",
       "</style>\n",
       "<table border=\"1\" class=\"dataframe\">\n",
       "  <thead>\n",
       "    <tr style=\"text-align: right;\">\n",
       "      <th></th>\n",
       "      <th>sepal_length</th>\n",
       "      <th>sepal_width</th>\n",
       "      <th>petal_length</th>\n",
       "      <th>petal_width</th>\n",
       "      <th>species</th>\n",
       "    </tr>\n",
       "  </thead>\n",
       "  <tbody>\n",
       "    <tr>\n",
       "      <th>0</th>\n",
       "      <td>5.1</td>\n",
       "      <td>3.5</td>\n",
       "      <td>1.4</td>\n",
       "      <td>0.2</td>\n",
       "      <td>setosa</td>\n",
       "    </tr>\n",
       "    <tr>\n",
       "      <th>1</th>\n",
       "      <td>4.9</td>\n",
       "      <td>3.0</td>\n",
       "      <td>1.4</td>\n",
       "      <td>0.2</td>\n",
       "      <td>setosa</td>\n",
       "    </tr>\n",
       "    <tr>\n",
       "      <th>2</th>\n",
       "      <td>4.7</td>\n",
       "      <td>3.2</td>\n",
       "      <td>1.3</td>\n",
       "      <td>0.2</td>\n",
       "      <td>setosa</td>\n",
       "    </tr>\n",
       "    <tr>\n",
       "      <th>3</th>\n",
       "      <td>4.6</td>\n",
       "      <td>3.1</td>\n",
       "      <td>1.5</td>\n",
       "      <td>0.2</td>\n",
       "      <td>setosa</td>\n",
       "    </tr>\n",
       "    <tr>\n",
       "      <th>4</th>\n",
       "      <td>5.0</td>\n",
       "      <td>3.6</td>\n",
       "      <td>1.4</td>\n",
       "      <td>0.2</td>\n",
       "      <td>setosa</td>\n",
       "    </tr>\n",
       "  </tbody>\n",
       "</table>\n",
       "</div>"
      ],
      "text/plain": [
       "   sepal_length  sepal_width  petal_length  petal_width species\n",
       "0           5.1          3.5           1.4          0.2  setosa\n",
       "1           4.9          3.0           1.4          0.2  setosa\n",
       "2           4.7          3.2           1.3          0.2  setosa\n",
       "3           4.6          3.1           1.5          0.2  setosa\n",
       "4           5.0          3.6           1.4          0.2  setosa"
      ]
     },
     "execution_count": 4,
     "metadata": {},
     "output_type": "execute_result"
    }
   ],
   "source": [
    "iris.head()"
   ]
  },
  {
   "cell_type": "code",
   "execution_count": 5,
   "id": "4e85da61",
   "metadata": {},
   "outputs": [
    {
     "data": {
      "text/html": [
       "<div>\n",
       "<style scoped>\n",
       "    .dataframe tbody tr th:only-of-type {\n",
       "        vertical-align: middle;\n",
       "    }\n",
       "\n",
       "    .dataframe tbody tr th {\n",
       "        vertical-align: top;\n",
       "    }\n",
       "\n",
       "    .dataframe thead th {\n",
       "        text-align: right;\n",
       "    }\n",
       "</style>\n",
       "<table border=\"1\" class=\"dataframe\">\n",
       "  <thead>\n",
       "    <tr style=\"text-align: right;\">\n",
       "      <th></th>\n",
       "      <th>sepal_length</th>\n",
       "      <th>sepal_width</th>\n",
       "      <th>petal_length</th>\n",
       "      <th>petal_width</th>\n",
       "      <th>species</th>\n",
       "    </tr>\n",
       "  </thead>\n",
       "  <tbody>\n",
       "    <tr>\n",
       "      <th>0</th>\n",
       "      <td>5.1</td>\n",
       "      <td>3.5</td>\n",
       "      <td>1.4</td>\n",
       "      <td>0.2</td>\n",
       "      <td>setosa</td>\n",
       "    </tr>\n",
       "    <tr>\n",
       "      <th>1</th>\n",
       "      <td>4.9</td>\n",
       "      <td>3.0</td>\n",
       "      <td>1.4</td>\n",
       "      <td>0.2</td>\n",
       "      <td>setosa</td>\n",
       "    </tr>\n",
       "    <tr>\n",
       "      <th>2</th>\n",
       "      <td>4.7</td>\n",
       "      <td>3.2</td>\n",
       "      <td>1.3</td>\n",
       "      <td>0.2</td>\n",
       "      <td>setosa</td>\n",
       "    </tr>\n",
       "    <tr>\n",
       "      <th>3</th>\n",
       "      <td>4.6</td>\n",
       "      <td>3.1</td>\n",
       "      <td>1.5</td>\n",
       "      <td>0.2</td>\n",
       "      <td>setosa</td>\n",
       "    </tr>\n",
       "    <tr>\n",
       "      <th>4</th>\n",
       "      <td>5.0</td>\n",
       "      <td>3.6</td>\n",
       "      <td>1.4</td>\n",
       "      <td>0.2</td>\n",
       "      <td>setosa</td>\n",
       "    </tr>\n",
       "    <tr>\n",
       "      <th>...</th>\n",
       "      <td>...</td>\n",
       "      <td>...</td>\n",
       "      <td>...</td>\n",
       "      <td>...</td>\n",
       "      <td>...</td>\n",
       "    </tr>\n",
       "    <tr>\n",
       "      <th>145</th>\n",
       "      <td>6.7</td>\n",
       "      <td>3.0</td>\n",
       "      <td>5.2</td>\n",
       "      <td>2.3</td>\n",
       "      <td>virginica</td>\n",
       "    </tr>\n",
       "    <tr>\n",
       "      <th>146</th>\n",
       "      <td>6.3</td>\n",
       "      <td>2.5</td>\n",
       "      <td>5.0</td>\n",
       "      <td>1.9</td>\n",
       "      <td>virginica</td>\n",
       "    </tr>\n",
       "    <tr>\n",
       "      <th>147</th>\n",
       "      <td>6.5</td>\n",
       "      <td>3.0</td>\n",
       "      <td>5.2</td>\n",
       "      <td>2.0</td>\n",
       "      <td>virginica</td>\n",
       "    </tr>\n",
       "    <tr>\n",
       "      <th>148</th>\n",
       "      <td>6.2</td>\n",
       "      <td>3.4</td>\n",
       "      <td>5.4</td>\n",
       "      <td>2.3</td>\n",
       "      <td>virginica</td>\n",
       "    </tr>\n",
       "    <tr>\n",
       "      <th>149</th>\n",
       "      <td>5.9</td>\n",
       "      <td>3.0</td>\n",
       "      <td>5.1</td>\n",
       "      <td>1.8</td>\n",
       "      <td>virginica</td>\n",
       "    </tr>\n",
       "  </tbody>\n",
       "</table>\n",
       "<p>150 rows × 5 columns</p>\n",
       "</div>"
      ],
      "text/plain": [
       "     sepal_length  sepal_width  petal_length  petal_width    species\n",
       "0             5.1          3.5           1.4          0.2     setosa\n",
       "1             4.9          3.0           1.4          0.2     setosa\n",
       "2             4.7          3.2           1.3          0.2     setosa\n",
       "3             4.6          3.1           1.5          0.2     setosa\n",
       "4             5.0          3.6           1.4          0.2     setosa\n",
       "..            ...          ...           ...          ...        ...\n",
       "145           6.7          3.0           5.2          2.3  virginica\n",
       "146           6.3          2.5           5.0          1.9  virginica\n",
       "147           6.5          3.0           5.2          2.0  virginica\n",
       "148           6.2          3.4           5.4          2.3  virginica\n",
       "149           5.9          3.0           5.1          1.8  virginica\n",
       "\n",
       "[150 rows x 5 columns]"
      ]
     },
     "execution_count": 5,
     "metadata": {},
     "output_type": "execute_result"
    }
   ],
   "source": [
    "iris"
   ]
  },
  {
   "cell_type": "code",
   "execution_count": 6,
   "id": "52a269b4",
   "metadata": {},
   "outputs": [],
   "source": [
    "X=iris['petal_length']\n",
    "Y=iris['petal_width']"
   ]
  },
  {
   "cell_type": "code",
   "execution_count": 7,
   "id": "f09461dc",
   "metadata": {},
   "outputs": [],
   "source": [
    "import matplotlib.pyplot as plt"
   ]
  },
  {
   "cell_type": "code",
   "execution_count": 9,
   "id": "29eb15c6",
   "metadata": {},
   "outputs": [
    {
     "data": {
      "text/plain": [
       "Text(0, 0.5, 'petal_width')"
      ]
     },
     "execution_count": 9,
     "metadata": {},
     "output_type": "execute_result"
    },
    {
     "data": {
      "image/png": "[encoded data removed]",
      "text/plain": [
       "<Figure size 640x480 with 1 Axes>"
      ]
     },
     "metadata": {},
     "output_type": "display_data"
    }
   ],
   "source": [
    "plt.scatter(X,Y)\n",
    "plt.xlabel('petal_length')\n",
    "plt.ylabel('petal_width')"
   ]
  },
  {
   "cell_type": "code",
   "execution_count": 10,
   "id": "88dfb665",
   "metadata": {},
   "outputs": [],
   "source": [
    "from sklearn.model_selection import train_test_split"
   ]
  },
  {
   "cell_type": "code",
   "execution_count": 11,
   "id": "54c92531",
   "metadata": {},
   "outputs": [],
   "source": [
    "x_train,x_test,y_train,y_test=train_test_split(X,Y,test_size=0.4,random_state=12)"
   ]
  },
  {
   "cell_type": "code",
   "execution_count": 12,
   "id": "0aa0ab50",
   "metadata": {},
   "outputs": [
    {
     "data": {
      "text/plain": [
       "113    5.0\n",
       "5      1.7\n",
       "144    5.7\n",
       "106    4.5\n",
       "114    5.1\n",
       "      ... \n",
       "76     4.8\n",
       "3      1.5\n",
       "130    6.1\n",
       "134    5.6\n",
       "75     4.4\n",
       "Name: petal_length, Length: 90, dtype: float64"
      ]
     },
     "execution_count": 12,
     "metadata": {},
     "output_type": "execute_result"
    }
   ],
   "source": [
    "x_train"
   ]
  },
  {
   "cell_type": "code",
   "execution_count": 13,
   "id": "bc5e9457",
   "metadata": {},
   "outputs": [
    {
     "data": {
      "text/plain": [
       "array([[5. ],\n",
       "       [1.7],\n",
       "       [5.7],\n",
       "       [4.5],\n",
       "       [5.1],\n",
       "       [4.8],\n",
       "       [4.7],\n",
       "       [3.3],\n",
       "       [3.3],\n",
       "       [5.1],\n",
       "       [6.6],\n",
       "       [1.4],\n",
       "       [5.6],\n",
       "       [6.4],\n",
       "       [1.5],\n",
       "       [4.2],\n",
       "       [1.7],\n",
       "       [5.3],\n",
       "       [6.7],\n",
       "       [1.6],\n",
       "       [4.5],\n",
       "       [3.9],\n",
       "       [1.6],\n",
       "       [1.7],\n",
       "       [4.4],\n",
       "       [4.5],\n",
       "       [4.6],\n",
       "       [4.5],\n",
       "       [5.5],\n",
       "       [4.6],\n",
       "       [5.4],\n",
       "       [1.4],\n",
       "       [1.3],\n",
       "       [4.1],\n",
       "       [4.2],\n",
       "       [4.8],\n",
       "       [1.3],\n",
       "       [4.9],\n",
       "       [3.5],\n",
       "       [1.4],\n",
       "       [5.9],\n",
       "       [5.6],\n",
       "       [4. ],\n",
       "       [4.9],\n",
       "       [5.1],\n",
       "       [1.4],\n",
       "       [1.9],\n",
       "       [6.3],\n",
       "       [4.4],\n",
       "       [4.5],\n",
       "       [5.8],\n",
       "       [1.4],\n",
       "       [4.7],\n",
       "       [4.3],\n",
       "       [1.6],\n",
       "       [3.5],\n",
       "       [4.1],\n",
       "       [5.2],\n",
       "       [5.1],\n",
       "       [3.9],\n",
       "       [1.5],\n",
       "       [5.1],\n",
       "       [1.5],\n",
       "       [5.5],\n",
       "       [1.6],\n",
       "       [1.4],\n",
       "       [4.7],\n",
       "       [6.1],\n",
       "       [4.9],\n",
       "       [4.2],\n",
       "       [5. ],\n",
       "       [6. ],\n",
       "       [1.2],\n",
       "       [4. ],\n",
       "       [3.9],\n",
       "       [1.1],\n",
       "       [5.8],\n",
       "       [6.7],\n",
       "       [5.6],\n",
       "       [4.3],\n",
       "       [6.9],\n",
       "       [5.1],\n",
       "       [5.1],\n",
       "       [1.4],\n",
       "       [1. ],\n",
       "       [4.8],\n",
       "       [1.5],\n",
       "       [6.1],\n",
       "       [5.6],\n",
       "       [4.4]])"
      ]
     },
     "execution_count": 13,
     "metadata": {},
     "output_type": "execute_result"
    }
   ],
   "source": [
    "import numpy as np\n",
    "x_train=np.array(x_train).reshape(-1,1)\n",
    "x_train"
   ]
  },
  {
   "cell_type": "code",
   "execution_count": 14,
   "id": "98818cef",
   "metadata": {},
   "outputs": [
    {
     "data": {
      "text/plain": [
       "array([[2. ],\n",
       "       [0.4],\n",
       "       [2.5],\n",
       "       [1.7],\n",
       "       [2.4],\n",
       "       [1.8],\n",
       "       [1.5],\n",
       "       [1. ],\n",
       "       [1. ],\n",
       "       [1.6],\n",
       "       [2.1],\n",
       "       [0.2],\n",
       "       [2.4],\n",
       "       [2. ],\n",
       "       [0.2],\n",
       "       [1.3],\n",
       "       [0.3],\n",
       "       [2.3],\n",
       "       [2. ],\n",
       "       [0.6],\n",
       "       [1.5],\n",
       "       [1.1],\n",
       "       [0.2],\n",
       "       [0.2],\n",
       "       [1.3],\n",
       "       [1.3],\n",
       "       [1.5],\n",
       "       [1.5],\n",
       "       [1.8],\n",
       "       [1.3],\n",
       "       [2.1],\n",
       "       [0.2],\n",
       "       [0.2],\n",
       "       [1. ],\n",
       "       [1.2],\n",
       "       [1.8],\n",
       "       [0.2],\n",
       "       [2. ],\n",
       "       [1. ],\n",
       "       [0.2],\n",
       "       [2.1],\n",
       "       [2.4],\n",
       "       [1.3],\n",
       "       [1.8],\n",
       "       [1.8],\n",
       "       [0.1],\n",
       "       [0.4],\n",
       "       [1.8],\n",
       "       [1.4],\n",
       "       [1.5],\n",
       "       [1.6],\n",
       "       [0.2],\n",
       "       [1.6],\n",
       "       [1.3],\n",
       "       [0.2],\n",
       "       [1. ],\n",
       "       [1.3],\n",
       "       [2. ],\n",
       "       [1.9],\n",
       "       [1.4],\n",
       "       [0.2],\n",
       "       [2. ],\n",
       "       [0.1],\n",
       "       [2.1],\n",
       "       [0.2],\n",
       "       [0.3],\n",
       "       [1.2],\n",
       "       [2.5],\n",
       "       [1.8],\n",
       "       [1.3],\n",
       "       [1.5],\n",
       "       [2.5],\n",
       "       [0.2],\n",
       "       [1.3],\n",
       "       [1.2],\n",
       "       [0.1],\n",
       "       [2.2],\n",
       "       [2.2],\n",
       "       [2.1],\n",
       "       [1.3],\n",
       "       [2.3],\n",
       "       [2.3],\n",
       "       [1.5],\n",
       "       [0.2],\n",
       "       [0.2],\n",
       "       [1.4],\n",
       "       [0.2],\n",
       "       [1.9],\n",
       "       [1.4],\n",
       "       [1.4]])"
      ]
     },
     "execution_count": 14,
     "metadata": {},
     "output_type": "execute_result"
    }
   ],
   "source": [
    "y_train=np.array(y_train).reshape(-1,1)\n",
    "y_train"
   ]
  },
  {
   "cell_type": "code",
   "execution_count": 15,
   "id": "4aeb6408",
   "metadata": {},
   "outputs": [],
   "source": [
    "from sklearn.linear_model import LinearRegression"
   ]
  },
  {
   "cell_type": "code",
   "execution_count": 16,
   "id": "66255b32",
   "metadata": {},
   "outputs": [],
   "source": [
    "lr=LinearRegression()"
   ]
  },
  {
   "cell_type": "code",
   "execution_count": 17,
   "id": "208d4f41",
   "metadata": {},
   "outputs": [
    {
     "data": {
      "text/html": [
       "<style>#sk-container-id-1 {color: black;background-color: white;}#sk-container-id-1 pre{padding: 0;}#sk-container-id-1 div.sk-toggleable {background-color: white;}#sk-container-id-1 label.sk-toggleable__label {cursor: pointer;display: block;width: 100%;margin-bottom: 0;padding: 0.3em;box-sizing: border-box;text-align: center;}#sk-container-id-1 label.sk-toggleable__label-arrow:before {content: \"▸\";float: left;margin-right: 0.25em;color: #696969;}#sk-container-id-1 label.sk-toggleable__label-arrow:hover:before {color: black;}#sk-container-id-1 div.sk-estimator:hover label.sk-toggleable__label-arrow:before {color: black;}#sk-container-id-1 div.sk-toggleable__content {max-height: 0;max-width: 0;overflow: hidden;text-align: left;background-color: #f0f8ff;}#sk-container-id-1 div.sk-toggleable__content pre {margin: 0.2em;color: black;border-radius: 0.25em;background-color: #f0f8ff;}#sk-container-id-1 input.sk-toggleable__control:checked~div.sk-toggleable__content {max-height: 200px;max-width: 100%;overflow: auto;}#sk-container-id-1 input.sk-toggleable__control:checked~label.sk-toggleable__label-arrow:before {content: \"▾\";}#sk-container-id-1 div.sk-estimator input.sk-toggleable__control:checked~label.sk-toggleable__label {background-color: #d4ebff;}#sk-container-id-1 div.sk-label input.sk-toggleable__control:checked~label.sk-toggleable__label {background-color: #d4ebff;}#sk-container-id-1 input.sk-hidden--visually {border: 0;clip: rect(1px 1px 1px 1px);clip: rect(1px, 1px, 1px, 1px);height: 1px;margin: -1px;overflow: hidden;padding: 0;position: absolute;width: 1px;}#sk-container-id-1 div.sk-estimator {font-family: monospace;background-color: #f0f8ff;border: 1px dotted black;border-radius: 0.25em;box-sizing: border-box;margin-bottom: 0.5em;}#sk-container-id-1 div.sk-estimator:hover {background-color: #d4ebff;}#sk-container-id-1 div.sk-parallel-item::after {content: \"\";width: 100%;border-bottom: 1px solid gray;flex-grow: 1;}#sk-container-id-1 div.sk-label:hover label.sk-toggleable__label {background-color: #d4ebff;}#sk-container-id-1 div.sk-serial::before {content: \"\";position: absolute;border-left: 1px solid gray;box-sizing: border-box;top: 0;bottom: 0;left: 50%;z-index: 0;}#sk-container-id-1 div.sk-serial {display: flex;flex-direction: column;align-items: center;background-color: white;padding-right: 0.2em;padding-left: 0.2em;position: relative;}#sk-container-id-1 div.sk-item {position: relative;z-index: 1;}#sk-container-id-1 div.sk-parallel {display: flex;align-items: stretch;justify-content: center;background-color: white;position: relative;}#sk-container-id-1 div.sk-item::before, #sk-container-id-1 div.sk-parallel-item::before {content: \"\";position: absolute;border-left: 1px solid gray;box-sizing: border-box;top: 0;bottom: 0;left: 50%;z-index: -1;}#sk-container-id-1 div.sk-parallel-item {display: flex;flex-direction: column;z-index: 1;position: relative;background-color: white;}#sk-container-id-1 div.sk-parallel-item:first-child::after {align-self: flex-end;width: 50%;}#sk-container-id-1 div.sk-parallel-item:last-child::after {align-self: flex-start;width: 50%;}#sk-container-id-1 div.sk-parallel-item:only-child::after {width: 0;}#sk-container-id-1 div.sk-dashed-wrapped {border: 1px dashed gray;margin: 0 0.4em 0.5em 0.4em;box-sizing: border-box;padding-bottom: 0.4em;background-color: white;}#sk-container-id-1 div.sk-label label {font-family: monospace;font-weight: bold;display: inline-block;line-height: 1.2em;}#sk-container-id-1 div.sk-label-container {text-align: center;}#sk-container-id-1 div.sk-container {/* jupyter's `normalize.less` sets `[hidden] { display: none; }` but bootstrap.min.css set `[hidden] { display: none !important; }` so we also need the `!important` here to be able to override the default hidden behavior on the sphinx rendered scikit-learn.org. See: https://github.com/scikit-learn/scikit-learn/issues/21755 */display: inline-block !important;position: relative;}#sk-container-id-1 div.sk-text-repr-fallback {display: none;}</style><div id=\"sk-container-id-1\" class=\"sk-top-container\"><div class=\"sk-text-repr-fallback\"><pre>LinearRegression()</pre><b>In a Jupyter environment, please rerun this cell to show the HTML representation or trust the notebook. <br />On GitHub, the HTML representation is unable to render, please try loading this page with nbviewer.org.</b></div><div class=\"sk-container\" hidden><div class=\"sk-item\"><div class=\"sk-estimator sk-toggleable\"><input class=\"sk-toggleable__control sk-hidden--visually\" id=\"sk-estimator-id-1\" type=\"checkbox\" checked><label for=\"sk-estimator-id-1\" class=\"sk-toggleable__label sk-toggleable__label-arrow\">LinearRegression</label><div class=\"sk-toggleable__content\"><pre>LinearRegression()</pre></div></div></div></div></div>"
      ],
      "text/plain": [
       "LinearRegression()"
      ]
     },
     "execution_count": 17,
     "metadata": {},
     "output_type": "execute_result"
    }
   ],
   "source": [
    "lr.fit(x_train,y_train)"
   ]
  },
  {
   "cell_type": "code",
   "execution_count": 18,
   "id": "332ce034",
   "metadata": {},
   "outputs": [
    {
     "data": {
      "text/plain": [
       "array([-0.376376])"
      ]
     },
     "execution_count": 18,
     "metadata": {},
     "output_type": "execute_result"
    }
   ],
   "source": [
    "c=lr.intercept_\n",
    "c"
   ]
  },
  {
   "cell_type": "code",
   "execution_count": 19,
   "id": "567cc188",
   "metadata": {},
   "outputs": [
    {
     "data": {
      "text/plain": [
       "array([[0.41717005]])"
      ]
     },
     "execution_count": 19,
     "metadata": {},
     "output_type": "execute_result"
    }
   ],
   "source": [
    "m=lr.coef_\n",
    "m"
   ]
  },
  {
   "cell_type": "code",
   "execution_count": 20,
   "id": "0bb9b8b9",
   "metadata": {},
   "outputs": [
    {
     "data": {
      "text/plain": [
       "array([[1.70947423],\n",
       "       [0.33281308],\n",
       "       [2.00149327],\n",
       "       [1.50088921],\n",
       "       [1.75119124],\n",
       "       [1.62604022],\n",
       "       [1.58432322],\n",
       "       [1.00028516],\n",
       "       [1.00028516],\n",
       "       [1.75119124],\n",
       "       [2.37694631],\n",
       "       [0.20766207],\n",
       "       [1.95977626],\n",
       "       [2.2935123 ],\n",
       "       [0.24937907],\n",
       "       [1.3757382 ],\n",
       "       [0.33281308],\n",
       "       [1.83462525],\n",
       "       [2.41866331],\n",
       "       [0.29109608],\n",
       "       [1.50088921],\n",
       "       [1.25058718],\n",
       "       [0.29109608],\n",
       "       [0.33281308],\n",
       "       [1.45917221],\n",
       "       [1.50088921],\n",
       "       [1.54260622],\n",
       "       [1.50088921],\n",
       "       [1.91805926],\n",
       "       [1.54260622],\n",
       "       [1.87634225],\n",
       "       [0.20766207],\n",
       "       [0.16594506],\n",
       "       [1.33402119],\n",
       "       [1.3757382 ],\n",
       "       [1.62604022],\n",
       "       [0.16594506],\n",
       "       [1.66775723],\n",
       "       [1.08371916],\n",
       "       [0.20766207],\n",
       "       [2.08492728],\n",
       "       [1.95977626],\n",
       "       [1.29230419],\n",
       "       [1.66775723],\n",
       "       [1.75119124],\n",
       "       [0.20766207],\n",
       "       [0.41624709],\n",
       "       [2.25179529],\n",
       "       [1.45917221],\n",
       "       [1.50088921],\n",
       "       [2.04321027],\n",
       "       [0.20766207],\n",
       "       [1.58432322],\n",
       "       [1.4174552 ],\n",
       "       [0.29109608],\n",
       "       [1.08371916],\n",
       "       [1.33402119],\n",
       "       [1.79290824],\n",
       "       [1.75119124],\n",
       "       [1.25058718],\n",
       "       [0.24937907],\n",
       "       [1.75119124],\n",
       "       [0.24937907],\n",
       "       [1.91805926],\n",
       "       [0.29109608],\n",
       "       [0.20766207],\n",
       "       [1.58432322],\n",
       "       [2.16836129],\n",
       "       [1.66775723],\n",
       "       [1.3757382 ],\n",
       "       [1.70947423],\n",
       "       [2.12664428],\n",
       "       [0.12422806],\n",
       "       [1.29230419],\n",
       "       [1.25058718],\n",
       "       [0.08251105],\n",
       "       [2.04321027],\n",
       "       [2.41866331],\n",
       "       [1.95977626],\n",
       "       [1.4174552 ],\n",
       "       [2.50209732],\n",
       "       [1.75119124],\n",
       "       [1.75119124],\n",
       "       [0.20766207],\n",
       "       [0.04079405],\n",
       "       [1.62604022],\n",
       "       [0.24937907],\n",
       "       [2.16836129],\n",
       "       [1.95977626],\n",
       "       [1.45917221]])"
      ]
     },
     "execution_count": 20,
     "metadata": {},
     "output_type": "execute_result"
    }
   ],
   "source": [
    "y_pre_train=m*x_train+c\n",
    "y_pre_train"
   ]
  },
  {
   "cell_type": "code",
   "execution_count": 21,
   "id": "b26af809",
   "metadata": {},
   "outputs": [
    {
     "data": {
      "text/plain": [
       "array([[1.70947423],\n",
       "       [0.33281308],\n",
       "       [2.00149327],\n",
       "       [1.50088921],\n",
       "       [1.75119124],\n",
       "       [1.62604022],\n",
       "       [1.58432322],\n",
       "       [1.00028516],\n",
       "       [1.00028516],\n",
       "       [1.75119124],\n",
       "       [2.37694631],\n",
       "       [0.20766207],\n",
       "       [1.95977626],\n",
       "       [2.2935123 ],\n",
       "       [0.24937907],\n",
       "       [1.3757382 ],\n",
       "       [0.33281308],\n",
       "       [1.83462525],\n",
       "       [2.41866331],\n",
       "       [0.29109608],\n",
       "       [1.50088921],\n",
       "       [1.25058718],\n",
       "       [0.29109608],\n",
       "       [0.33281308],\n",
       "       [1.45917221],\n",
       "       [1.50088921],\n",
       "       [1.54260622],\n",
       "       [1.50088921],\n",
       "       [1.91805926],\n",
       "       [1.54260622],\n",
       "       [1.87634225],\n",
       "       [0.20766207],\n",
       "       [0.16594506],\n",
       "       [1.33402119],\n",
       "       [1.3757382 ],\n",
       "       [1.62604022],\n",
       "       [0.16594506],\n",
       "       [1.66775723],\n",
       "       [1.08371916],\n",
       "       [0.20766207],\n",
       "       [2.08492728],\n",
       "       [1.95977626],\n",
       "       [1.29230419],\n",
       "       [1.66775723],\n",
       "       [1.75119124],\n",
       "       [0.20766207],\n",
       "       [0.41624709],\n",
       "       [2.25179529],\n",
       "       [1.45917221],\n",
       "       [1.50088921],\n",
       "       [2.04321027],\n",
       "       [0.20766207],\n",
       "       [1.58432322],\n",
       "       [1.4174552 ],\n",
       "       [0.29109608],\n",
       "       [1.08371916],\n",
       "       [1.33402119],\n",
       "       [1.79290824],\n",
       "       [1.75119124],\n",
       "       [1.25058718],\n",
       "       [0.24937907],\n",
       "       [1.75119124],\n",
       "       [0.24937907],\n",
       "       [1.91805926],\n",
       "       [0.29109608],\n",
       "       [0.20766207],\n",
       "       [1.58432322],\n",
       "       [2.16836129],\n",
       "       [1.66775723],\n",
       "       [1.3757382 ],\n",
       "       [1.70947423],\n",
       "       [2.12664428],\n",
       "       [0.12422806],\n",
       "       [1.29230419],\n",
       "       [1.25058718],\n",
       "       [0.08251105],\n",
       "       [2.04321027],\n",
       "       [2.41866331],\n",
       "       [1.95977626],\n",
       "       [1.4174552 ],\n",
       "       [2.50209732],\n",
       "       [1.75119124],\n",
       "       [1.75119124],\n",
       "       [0.20766207],\n",
       "       [0.04079405],\n",
       "       [1.62604022],\n",
       "       [0.24937907],\n",
       "       [2.16836129],\n",
       "       [1.95977626],\n",
       "       [1.45917221]])"
      ]
     },
     "execution_count": 21,
     "metadata": {},
     "output_type": "execute_result"
    }
   ],
   "source": [
    "y_pre_train_data=lr.predict(x_train)\n",
    "y_pre_train_data"
   ]
  },
  {
   "cell_type": "code",
   "execution_count": 22,
   "id": "a3b0032c",
   "metadata": {},
   "outputs": [
    {
     "data": {
      "text/plain": [
       "Text(0, 0.5, 'petal_width')"
      ]
     },
     "execution_count": 22,
     "metadata": {},
     "output_type": "execute_result"
    },
    {
     "data": {
      "image/png": "[encoded data removed]",
      "text/plain": [
       "<Figure size 640x480 with 1 Axes>"
      ]
     },
     "metadata": {},
     "output_type": "display_data"
    }
   ],
   "source": [
    "plt.scatter(x_train,y_train)\n",
    "plt.scatter(x_train,y_pre_train_data,color='red')\n",
    "plt.xlabel('petal_length')\n",
    "plt.ylabel('petal_width')"
   ]
  },
  {
   "cell_type": "code",
   "execution_count": 23,
   "id": "ef17df44",
   "metadata": {},
   "outputs": [
    {
     "data": {
      "text/plain": [
       "Text(0, 0.5, 'petal_width')"
      ]
     },
     "execution_count": 23,
     "metadata": {},
     "output_type": "execute_result"
    },
    {
     "data": {
      "image/png": "[encoded data removed]",
      "text/plain": [
       "<Figure size 640x480 with 1 Axes>"
      ]
     },
     "metadata": {},
     "output_type": "display_data"
    }
   ],
   "source": [
    "plt.scatter(x_train,y_train)\n",
    "plt.plot(x_train,y_pre_train_data,color='red')\n",
    "plt.xlabel('petal_length')\n",
    "plt.ylabel('petal_width')"
   ]
  },
  {
   "cell_type": "code",
   "execution_count": 25,
   "id": "5463f237",
   "metadata": {},
   "outputs": [
    {
     "data": {
      "text/plain": [
       "array([[0.16594506],\n",
       "       [1.70947423],\n",
       "       [0.16594506],\n",
       "       [1.33402119],\n",
       "       [2.08492728],\n",
       "       [1.91805926],\n",
       "       [1.87634225],\n",
       "       [0.24937907],\n",
       "       [2.16836129],\n",
       "       [0.33281308],\n",
       "       [1.50088921],\n",
       "       [0.16594506],\n",
       "       [0.24937907],\n",
       "       [0.24937907],\n",
       "       [1.58432322],\n",
       "       [2.12664428],\n",
       "       [2.04321027],\n",
       "       [1.3757382 ],\n",
       "       [0.20766207],\n",
       "       [1.66775723],\n",
       "       [0.20766207],\n",
       "       [1.29230419],\n",
       "       [1.62604022],\n",
       "       [1.50088921],\n",
       "       [0.41624709],\n",
       "       [1.79290824],\n",
       "       [1.70947423],\n",
       "       [1.45917221],\n",
       "       [0.29109608],\n",
       "       [0.16594506],\n",
       "       [0.20766207],\n",
       "       [1.16715317],\n",
       "       [1.95977626],\n",
       "       [0.20766207],\n",
       "       [1.75119124],\n",
       "       [0.24937907],\n",
       "       [1.12543617],\n",
       "       [1.20887018],\n",
       "       [0.12422806],\n",
       "       [1.29230419],\n",
       "       [0.87513414],\n",
       "       [0.29109608],\n",
       "       [0.20766207],\n",
       "       [0.24937907],\n",
       "       [0.20766207],\n",
       "       [0.24937907],\n",
       "       [0.29109608],\n",
       "       [0.16594506],\n",
       "       [2.00149327],\n",
       "       [0.24937907],\n",
       "       [1.95977626],\n",
       "       [1.50088921],\n",
       "       [1.66775723],\n",
       "       [1.58432322],\n",
       "       [0.24937907],\n",
       "       [1.83462525],\n",
       "       [1.29230419],\n",
       "       [1.54260622],\n",
       "       [2.00149327],\n",
       "       [0.24937907]])"
      ]
     },
     "execution_count": 25,
     "metadata": {},
     "output_type": "execute_result"
    }
   ],
   "source": [
    "x_test=np.array(x_test).reshape(-1,1)\n",
    "y_pre_train_data=lr.predict(x_test)\n",
    "y_pre_train_data"
   ]
  },
  {
   "cell_type": "code",
   "execution_count": 26,
   "id": "c86c06c3",
   "metadata": {},
   "outputs": [
    {
     "data": {
      "text/plain": [
       "Text(0, 0.5, 'petal_width')"
      ]
     },
     "execution_count": 26,
     "metadata": {},
     "output_type": "execute_result"
    },
    {
     "data": {
      "image/png": "[encoded data removed]",
      "text/plain": [
       "<Figure size 640x480 with 1 Axes>"
      ]
     },
     "metadata": {},
     "output_type": "display_data"
    }
   ],
   "source": [
    "plt.scatter(x_train,y_train)\n",
    "plt.plot(x_test,y_pre_train_data,color='red')\n",
    "plt.xlabel('petal_length')\n",
    "plt.ylabel('petal_width')"
   ]
  },
  {
   "cell_type": "code",
   "execution_count": null,
   "id": "a087ad0f",
   "metadata": {},
   "outputs": [],
   "source": []
  }
 ],
 "metadata": {
  "kernelspec": {
   "display_name": "Python 3 (ipykernel)",
   "language": "python",
   "name": "python3"
  },
  "language_info": {
   "codemirror_mode": {
    "name": "ipython",
    "version": 3
   },
   "file_extension": ".py",
   "mimetype": "text/x-python",
   "name": "python",
   "nbconvert_exporter": "python",
   "pygments_lexer": "ipython3",
   "version": "3.11.7"
  }
 },
 "nbformat": 4,
 "nbformat_minor": 5
}
